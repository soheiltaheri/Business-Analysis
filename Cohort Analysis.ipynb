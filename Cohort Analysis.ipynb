{
 "cells": [
  {
   "cell_type": "code",
   "execution_count": 23,
   "metadata": {
    "collapsed": true,
    "pycharm": {
     "name": "#%%\n"
    }
   },
   "outputs": [],
   "source": [
    "import pandas as pd\n",
    "import matplotlib.pyplot as plt\n",
    "import seaborn as sns\n",
    "import datetime as dt"
   ]
  },
  {
   "cell_type": "code",
   "execution_count": 24,
   "outputs": [
    {
     "data": {
      "text/plain": "   order_id  user_id  created_at  discount_cost  discount_type  basket\n0         1        1   4/12/2021          10000            1.0   12000\n1         2        2    5/9/2021              0            NaN   20000\n2         3        3    5/9/2021          10000            1.0   14000\n3         4        4  11/10/2021              0            NaN   15000\n4         5        5  11/10/2021          10000            1.0   16000",
      "text/html": "<div>\n<style scoped>\n    .dataframe tbody tr th:only-of-type {\n        vertical-align: middle;\n    }\n\n    .dataframe tbody tr th {\n        vertical-align: top;\n    }\n\n    .dataframe thead th {\n        text-align: right;\n    }\n</style>\n<table border=\"1\" class=\"dataframe\">\n  <thead>\n    <tr style=\"text-align: right;\">\n      <th></th>\n      <th>order_id</th>\n      <th>user_id</th>\n      <th>created_at</th>\n      <th>discount_cost</th>\n      <th>discount_type</th>\n      <th>basket</th>\n    </tr>\n  </thead>\n  <tbody>\n    <tr>\n      <th>0</th>\n      <td>1</td>\n      <td>1</td>\n      <td>4/12/2021</td>\n      <td>10000</td>\n      <td>1.0</td>\n      <td>12000</td>\n    </tr>\n    <tr>\n      <th>1</th>\n      <td>2</td>\n      <td>2</td>\n      <td>5/9/2021</td>\n      <td>0</td>\n      <td>NaN</td>\n      <td>20000</td>\n    </tr>\n    <tr>\n      <th>2</th>\n      <td>3</td>\n      <td>3</td>\n      <td>5/9/2021</td>\n      <td>10000</td>\n      <td>1.0</td>\n      <td>14000</td>\n    </tr>\n    <tr>\n      <th>3</th>\n      <td>4</td>\n      <td>4</td>\n      <td>11/10/2021</td>\n      <td>0</td>\n      <td>NaN</td>\n      <td>15000</td>\n    </tr>\n    <tr>\n      <th>4</th>\n      <td>5</td>\n      <td>5</td>\n      <td>11/10/2021</td>\n      <td>10000</td>\n      <td>1.0</td>\n      <td>16000</td>\n    </tr>\n  </tbody>\n</table>\n</div>"
     },
     "execution_count": 24,
     "metadata": {},
     "output_type": "execute_result"
    }
   ],
   "source": [
    "data = pd.read_csv('Sales Data.csv')\n",
    "data.head()"
   ],
   "metadata": {
    "collapsed": false,
    "pycharm": {
     "name": "#%%\n"
    }
   }
  },
  {
   "cell_type": "code",
   "execution_count": 25,
   "outputs": [
    {
     "data": {
      "text/plain": "   order_id  user_id  created_at  discount_cost  discount_type  basket\n0         1        1   4/12/2021          10000            1.0   12000\n1         2        2    5/9/2021              0            NaN   20000\n2         3        3    5/9/2021          10000            1.0   14000\n3         4        4  11/10/2021              0            NaN   15000\n4         5        5  11/10/2021          10000            1.0   16000",
      "text/html": "<div>\n<style scoped>\n    .dataframe tbody tr th:only-of-type {\n        vertical-align: middle;\n    }\n\n    .dataframe tbody tr th {\n        vertical-align: top;\n    }\n\n    .dataframe thead th {\n        text-align: right;\n    }\n</style>\n<table border=\"1\" class=\"dataframe\">\n  <thead>\n    <tr style=\"text-align: right;\">\n      <th></th>\n      <th>order_id</th>\n      <th>user_id</th>\n      <th>created_at</th>\n      <th>discount_cost</th>\n      <th>discount_type</th>\n      <th>basket</th>\n    </tr>\n  </thead>\n  <tbody>\n    <tr>\n      <th>0</th>\n      <td>1</td>\n      <td>1</td>\n      <td>4/12/2021</td>\n      <td>10000</td>\n      <td>1.0</td>\n      <td>12000</td>\n    </tr>\n    <tr>\n      <th>1</th>\n      <td>2</td>\n      <td>2</td>\n      <td>5/9/2021</td>\n      <td>0</td>\n      <td>NaN</td>\n      <td>20000</td>\n    </tr>\n    <tr>\n      <th>2</th>\n      <td>3</td>\n      <td>3</td>\n      <td>5/9/2021</td>\n      <td>10000</td>\n      <td>1.0</td>\n      <td>14000</td>\n    </tr>\n    <tr>\n      <th>3</th>\n      <td>4</td>\n      <td>4</td>\n      <td>11/10/2021</td>\n      <td>0</td>\n      <td>NaN</td>\n      <td>15000</td>\n    </tr>\n    <tr>\n      <th>4</th>\n      <td>5</td>\n      <td>5</td>\n      <td>11/10/2021</td>\n      <td>10000</td>\n      <td>1.0</td>\n      <td>16000</td>\n    </tr>\n  </tbody>\n</table>\n</div>"
     },
     "execution_count": 25,
     "metadata": {},
     "output_type": "execute_result"
    }
   ],
   "source": [
    "df = data.copy()\n",
    "df.head()"
   ],
   "metadata": {
    "collapsed": false,
    "pycharm": {
     "name": "#%%\n"
    }
   }
  },
  {
   "cell_type": "code",
   "execution_count": 26,
   "outputs": [
    {
     "data": {
      "text/plain": "   order_id  user_id  created_at  discount_cost  discount_type  basket\n0         1        1   4/12/2021          10000            1.0   12000\n1         2        2    5/9/2021              0            0.0   20000\n2         3        3    5/9/2021          10000            1.0   14000\n3         4        4  11/10/2021              0            0.0   15000\n4         5        5  11/10/2021          10000            1.0   16000",
      "text/html": "<div>\n<style scoped>\n    .dataframe tbody tr th:only-of-type {\n        vertical-align: middle;\n    }\n\n    .dataframe tbody tr th {\n        vertical-align: top;\n    }\n\n    .dataframe thead th {\n        text-align: right;\n    }\n</style>\n<table border=\"1\" class=\"dataframe\">\n  <thead>\n    <tr style=\"text-align: right;\">\n      <th></th>\n      <th>order_id</th>\n      <th>user_id</th>\n      <th>created_at</th>\n      <th>discount_cost</th>\n      <th>discount_type</th>\n      <th>basket</th>\n    </tr>\n  </thead>\n  <tbody>\n    <tr>\n      <th>0</th>\n      <td>1</td>\n      <td>1</td>\n      <td>4/12/2021</td>\n      <td>10000</td>\n      <td>1.0</td>\n      <td>12000</td>\n    </tr>\n    <tr>\n      <th>1</th>\n      <td>2</td>\n      <td>2</td>\n      <td>5/9/2021</td>\n      <td>0</td>\n      <td>0.0</td>\n      <td>20000</td>\n    </tr>\n    <tr>\n      <th>2</th>\n      <td>3</td>\n      <td>3</td>\n      <td>5/9/2021</td>\n      <td>10000</td>\n      <td>1.0</td>\n      <td>14000</td>\n    </tr>\n    <tr>\n      <th>3</th>\n      <td>4</td>\n      <td>4</td>\n      <td>11/10/2021</td>\n      <td>0</td>\n      <td>0.0</td>\n      <td>15000</td>\n    </tr>\n    <tr>\n      <th>4</th>\n      <td>5</td>\n      <td>5</td>\n      <td>11/10/2021</td>\n      <td>10000</td>\n      <td>1.0</td>\n      <td>16000</td>\n    </tr>\n  </tbody>\n</table>\n</div>"
     },
     "execution_count": 26,
     "metadata": {},
     "output_type": "execute_result"
    }
   ],
   "source": [
    "df['discount_type'].fillna(0, inplace=True)\n",
    "df.head()"
   ],
   "metadata": {
    "collapsed": false,
    "pycharm": {
     "name": "#%%\n"
    }
   }
  },
  {
   "cell_type": "code",
   "execution_count": 27,
   "outputs": [
    {
     "name": "stdout",
     "output_type": "stream",
     "text": [
      "<class 'pandas.core.frame.DataFrame'>\n",
      "RangeIndex: 29057 entries, 0 to 29056\n",
      "Data columns (total 6 columns):\n",
      " #   Column         Non-Null Count  Dtype         \n",
      "---  ------         --------------  -----         \n",
      " 0   order_id       29057 non-null  int64         \n",
      " 1   user_id        29057 non-null  int64         \n",
      " 2   created_at     29057 non-null  datetime64[ns]\n",
      " 3   discount_cost  29057 non-null  int64         \n",
      " 4   discount_type  29057 non-null  float64       \n",
      " 5   basket         29057 non-null  int64         \n",
      "dtypes: datetime64[ns](1), float64(1), int64(4)\n",
      "memory usage: 1.3 MB\n"
     ]
    }
   ],
   "source": [
    "df['created_at'] = pd.to_datetime(df['created_at'])\n",
    "df.info()"
   ],
   "metadata": {
    "collapsed": false,
    "pycharm": {
     "name": "#%%\n"
    }
   }
  },
  {
   "cell_type": "code",
   "execution_count": 28,
   "outputs": [
    {
     "data": {
      "text/plain": "   order_id  user_id created_at  discount_cost  discount_type  basket\n5         6        6 2022-01-01              0            0.0   10000\n6         7        7 2022-01-01              0            0.0   29500\n7         8        8 2022-01-01          10000            1.0   10000\n8         9        9 2022-01-01              0            0.0    5000\n9        10       10 2022-01-01              0            0.0   35000",
      "text/html": "<div>\n<style scoped>\n    .dataframe tbody tr th:only-of-type {\n        vertical-align: middle;\n    }\n\n    .dataframe tbody tr th {\n        vertical-align: top;\n    }\n\n    .dataframe thead th {\n        text-align: right;\n    }\n</style>\n<table border=\"1\" class=\"dataframe\">\n  <thead>\n    <tr style=\"text-align: right;\">\n      <th></th>\n      <th>order_id</th>\n      <th>user_id</th>\n      <th>created_at</th>\n      <th>discount_cost</th>\n      <th>discount_type</th>\n      <th>basket</th>\n    </tr>\n  </thead>\n  <tbody>\n    <tr>\n      <th>5</th>\n      <td>6</td>\n      <td>6</td>\n      <td>2022-01-01</td>\n      <td>0</td>\n      <td>0.0</td>\n      <td>10000</td>\n    </tr>\n    <tr>\n      <th>6</th>\n      <td>7</td>\n      <td>7</td>\n      <td>2022-01-01</td>\n      <td>0</td>\n      <td>0.0</td>\n      <td>29500</td>\n    </tr>\n    <tr>\n      <th>7</th>\n      <td>8</td>\n      <td>8</td>\n      <td>2022-01-01</td>\n      <td>10000</td>\n      <td>1.0</td>\n      <td>10000</td>\n    </tr>\n    <tr>\n      <th>8</th>\n      <td>9</td>\n      <td>9</td>\n      <td>2022-01-01</td>\n      <td>0</td>\n      <td>0.0</td>\n      <td>5000</td>\n    </tr>\n    <tr>\n      <th>9</th>\n      <td>10</td>\n      <td>10</td>\n      <td>2022-01-01</td>\n      <td>0</td>\n      <td>0.0</td>\n      <td>35000</td>\n    </tr>\n  </tbody>\n</table>\n</div>"
     },
     "execution_count": 28,
     "metadata": {},
     "output_type": "execute_result"
    }
   ],
   "source": [
    "df = df[(df['created_at'] >= '2022-01-01')]\n",
    "df.head()"
   ],
   "metadata": {
    "collapsed": false,
    "pycharm": {
     "name": "#%%\n"
    }
   }
  },
  {
   "cell_type": "code",
   "execution_count": 29,
   "outputs": [],
   "source": [
    "def get_month(x):\n",
    "    return dt.datetime(x.year, x.month,1)"
   ],
   "metadata": {
    "collapsed": false,
    "pycharm": {
     "name": "#%%\n"
    }
   }
  },
  {
   "cell_type": "code",
   "execution_count": 30,
   "outputs": [
    {
     "data": {
      "text/plain": "   order_id  user_id created_at  discount_cost  discount_type  basket  \\\n5         6        6 2022-01-01              0            0.0   10000   \n6         7        7 2022-01-01              0            0.0   29500   \n7         8        8 2022-01-01          10000            1.0   10000   \n8         9        9 2022-01-01              0            0.0    5000   \n9        10       10 2022-01-01              0            0.0   35000   \n\n  created_month cohort_month  \n5    2022-01-01   2022-01-01  \n6    2022-01-01   2022-01-01  \n7    2022-01-01   2022-01-01  \n8    2022-01-01   2022-01-01  \n9    2022-01-01   2022-01-01  ",
      "text/html": "<div>\n<style scoped>\n    .dataframe tbody tr th:only-of-type {\n        vertical-align: middle;\n    }\n\n    .dataframe tbody tr th {\n        vertical-align: top;\n    }\n\n    .dataframe thead th {\n        text-align: right;\n    }\n</style>\n<table border=\"1\" class=\"dataframe\">\n  <thead>\n    <tr style=\"text-align: right;\">\n      <th></th>\n      <th>order_id</th>\n      <th>user_id</th>\n      <th>created_at</th>\n      <th>discount_cost</th>\n      <th>discount_type</th>\n      <th>basket</th>\n      <th>created_month</th>\n      <th>cohort_month</th>\n    </tr>\n  </thead>\n  <tbody>\n    <tr>\n      <th>5</th>\n      <td>6</td>\n      <td>6</td>\n      <td>2022-01-01</td>\n      <td>0</td>\n      <td>0.0</td>\n      <td>10000</td>\n      <td>2022-01-01</td>\n      <td>2022-01-01</td>\n    </tr>\n    <tr>\n      <th>6</th>\n      <td>7</td>\n      <td>7</td>\n      <td>2022-01-01</td>\n      <td>0</td>\n      <td>0.0</td>\n      <td>29500</td>\n      <td>2022-01-01</td>\n      <td>2022-01-01</td>\n    </tr>\n    <tr>\n      <th>7</th>\n      <td>8</td>\n      <td>8</td>\n      <td>2022-01-01</td>\n      <td>10000</td>\n      <td>1.0</td>\n      <td>10000</td>\n      <td>2022-01-01</td>\n      <td>2022-01-01</td>\n    </tr>\n    <tr>\n      <th>8</th>\n      <td>9</td>\n      <td>9</td>\n      <td>2022-01-01</td>\n      <td>0</td>\n      <td>0.0</td>\n      <td>5000</td>\n      <td>2022-01-01</td>\n      <td>2022-01-01</td>\n    </tr>\n    <tr>\n      <th>9</th>\n      <td>10</td>\n      <td>10</td>\n      <td>2022-01-01</td>\n      <td>0</td>\n      <td>0.0</td>\n      <td>35000</td>\n      <td>2022-01-01</td>\n      <td>2022-01-01</td>\n    </tr>\n  </tbody>\n</table>\n</div>"
     },
     "execution_count": 30,
     "metadata": {},
     "output_type": "execute_result"
    }
   ],
   "source": [
    "df['created_month'] = df['created_at'].apply(get_month)\n",
    "df['cohort_month'] = df.groupby('user_id')['created_month'].transform('min')\n",
    "df.head()"
   ],
   "metadata": {
    "collapsed": false,
    "pycharm": {
     "name": "#%%\n"
    }
   }
  },
  {
   "cell_type": "code",
   "execution_count": 31,
   "outputs": [],
   "source": [
    "def get_date_elements(dframe, column):\n",
    "    day = dframe[column].dt.day\n",
    "    month = dframe[column].dt.month\n",
    "    year = dframe[column].dt.year\n",
    "    return year, month, day"
   ],
   "metadata": {
    "collapsed": false,
    "pycharm": {
     "name": "#%%\n"
    }
   }
  },
  {
   "cell_type": "code",
   "execution_count": 32,
   "outputs": [],
   "source": [
    "created_year, created_month, _ = get_date_elements(df, 'created_month')\n",
    "cohort_year, cohort_month, _ = get_date_elements(df, 'cohort_month')"
   ],
   "metadata": {
    "collapsed": false,
    "pycharm": {
     "name": "#%%\n"
    }
   }
  },
  {
   "cell_type": "code",
   "execution_count": 33,
   "outputs": [],
   "source": [
    "year_diff = created_year - cohort_year\n",
    "month_diff = created_month - cohort_month\n",
    "df['CohortIndex'] = year_diff * 12 + month_diff + 1"
   ],
   "metadata": {
    "collapsed": false,
    "pycharm": {
     "name": "#%%\n"
    }
   }
  },
  {
   "cell_type": "code",
   "execution_count": 34,
   "outputs": [
    {
     "data": {
      "text/plain": "   order_id  user_id created_at  discount_cost  discount_type  basket  \\\n5         6        6 2022-01-01              0            0.0   10000   \n6         7        7 2022-01-01              0            0.0   29500   \n7         8        8 2022-01-01          10000            1.0   10000   \n8         9        9 2022-01-01              0            0.0    5000   \n9        10       10 2022-01-01              0            0.0   35000   \n\n  created_month cohort_month  CohortIndex  \n5    2022-01-01   2022-01-01            1  \n6    2022-01-01   2022-01-01            1  \n7    2022-01-01   2022-01-01            1  \n8    2022-01-01   2022-01-01            1  \n9    2022-01-01   2022-01-01            1  ",
      "text/html": "<div>\n<style scoped>\n    .dataframe tbody tr th:only-of-type {\n        vertical-align: middle;\n    }\n\n    .dataframe tbody tr th {\n        vertical-align: top;\n    }\n\n    .dataframe thead th {\n        text-align: right;\n    }\n</style>\n<table border=\"1\" class=\"dataframe\">\n  <thead>\n    <tr style=\"text-align: right;\">\n      <th></th>\n      <th>order_id</th>\n      <th>user_id</th>\n      <th>created_at</th>\n      <th>discount_cost</th>\n      <th>discount_type</th>\n      <th>basket</th>\n      <th>created_month</th>\n      <th>cohort_month</th>\n      <th>CohortIndex</th>\n    </tr>\n  </thead>\n  <tbody>\n    <tr>\n      <th>5</th>\n      <td>6</td>\n      <td>6</td>\n      <td>2022-01-01</td>\n      <td>0</td>\n      <td>0.0</td>\n      <td>10000</td>\n      <td>2022-01-01</td>\n      <td>2022-01-01</td>\n      <td>1</td>\n    </tr>\n    <tr>\n      <th>6</th>\n      <td>7</td>\n      <td>7</td>\n      <td>2022-01-01</td>\n      <td>0</td>\n      <td>0.0</td>\n      <td>29500</td>\n      <td>2022-01-01</td>\n      <td>2022-01-01</td>\n      <td>1</td>\n    </tr>\n    <tr>\n      <th>7</th>\n      <td>8</td>\n      <td>8</td>\n      <td>2022-01-01</td>\n      <td>10000</td>\n      <td>1.0</td>\n      <td>10000</td>\n      <td>2022-01-01</td>\n      <td>2022-01-01</td>\n      <td>1</td>\n    </tr>\n    <tr>\n      <th>8</th>\n      <td>9</td>\n      <td>9</td>\n      <td>2022-01-01</td>\n      <td>0</td>\n      <td>0.0</td>\n      <td>5000</td>\n      <td>2022-01-01</td>\n      <td>2022-01-01</td>\n      <td>1</td>\n    </tr>\n    <tr>\n      <th>9</th>\n      <td>10</td>\n      <td>10</td>\n      <td>2022-01-01</td>\n      <td>0</td>\n      <td>0.0</td>\n      <td>35000</td>\n      <td>2022-01-01</td>\n      <td>2022-01-01</td>\n      <td>1</td>\n    </tr>\n  </tbody>\n</table>\n</div>"
     },
     "execution_count": 34,
     "metadata": {},
     "output_type": "execute_result"
    }
   ],
   "source": [
    "df.head()"
   ],
   "metadata": {
    "collapsed": false,
    "pycharm": {
     "name": "#%%\n"
    }
   }
  },
  {
   "cell_type": "code",
   "execution_count": 35,
   "outputs": [
    {
     "data": {
      "text/plain": "   cohort_month  CohortIndex  user_id\n0    2022-01-01            1     1492\n1    2022-01-01            2      457\n2    2022-01-01            3      365\n3    2022-01-01            4      378\n4    2022-01-01            5      316\n5    2022-01-01            6      317\n6    2022-01-01            7      324\n7    2022-02-01            1     1539\n8    2022-02-01            2      385\n9    2022-02-01            3      393\n10   2022-02-01            4      362\n11   2022-02-01            5      354\n12   2022-02-01            6      337\n13   2022-03-01            1     1258\n14   2022-03-01            2      306\n15   2022-03-01            3      275\n16   2022-03-01            4      259\n17   2022-03-01            5      277\n18   2022-04-01            1     1592\n19   2022-04-01            2      421\n20   2022-04-01            3      389\n21   2022-04-01            4      391\n22   2022-05-01            1     1192\n23   2022-05-01            2      352\n24   2022-05-01            3      287\n25   2022-06-01            1     1397\n26   2022-06-01            2      405\n27   2022-07-01            1     1515",
      "text/html": "<div>\n<style scoped>\n    .dataframe tbody tr th:only-of-type {\n        vertical-align: middle;\n    }\n\n    .dataframe tbody tr th {\n        vertical-align: top;\n    }\n\n    .dataframe thead th {\n        text-align: right;\n    }\n</style>\n<table border=\"1\" class=\"dataframe\">\n  <thead>\n    <tr style=\"text-align: right;\">\n      <th></th>\n      <th>cohort_month</th>\n      <th>CohortIndex</th>\n      <th>user_id</th>\n    </tr>\n  </thead>\n  <tbody>\n    <tr>\n      <th>0</th>\n      <td>2022-01-01</td>\n      <td>1</td>\n      <td>1492</td>\n    </tr>\n    <tr>\n      <th>1</th>\n      <td>2022-01-01</td>\n      <td>2</td>\n      <td>457</td>\n    </tr>\n    <tr>\n      <th>2</th>\n      <td>2022-01-01</td>\n      <td>3</td>\n      <td>365</td>\n    </tr>\n    <tr>\n      <th>3</th>\n      <td>2022-01-01</td>\n      <td>4</td>\n      <td>378</td>\n    </tr>\n    <tr>\n      <th>4</th>\n      <td>2022-01-01</td>\n      <td>5</td>\n      <td>316</td>\n    </tr>\n    <tr>\n      <th>5</th>\n      <td>2022-01-01</td>\n      <td>6</td>\n      <td>317</td>\n    </tr>\n    <tr>\n      <th>6</th>\n      <td>2022-01-01</td>\n      <td>7</td>\n      <td>324</td>\n    </tr>\n    <tr>\n      <th>7</th>\n      <td>2022-02-01</td>\n      <td>1</td>\n      <td>1539</td>\n    </tr>\n    <tr>\n      <th>8</th>\n      <td>2022-02-01</td>\n      <td>2</td>\n      <td>385</td>\n    </tr>\n    <tr>\n      <th>9</th>\n      <td>2022-02-01</td>\n      <td>3</td>\n      <td>393</td>\n    </tr>\n    <tr>\n      <th>10</th>\n      <td>2022-02-01</td>\n      <td>4</td>\n      <td>362</td>\n    </tr>\n    <tr>\n      <th>11</th>\n      <td>2022-02-01</td>\n      <td>5</td>\n      <td>354</td>\n    </tr>\n    <tr>\n      <th>12</th>\n      <td>2022-02-01</td>\n      <td>6</td>\n      <td>337</td>\n    </tr>\n    <tr>\n      <th>13</th>\n      <td>2022-03-01</td>\n      <td>1</td>\n      <td>1258</td>\n    </tr>\n    <tr>\n      <th>14</th>\n      <td>2022-03-01</td>\n      <td>2</td>\n      <td>306</td>\n    </tr>\n    <tr>\n      <th>15</th>\n      <td>2022-03-01</td>\n      <td>3</td>\n      <td>275</td>\n    </tr>\n    <tr>\n      <th>16</th>\n      <td>2022-03-01</td>\n      <td>4</td>\n      <td>259</td>\n    </tr>\n    <tr>\n      <th>17</th>\n      <td>2022-03-01</td>\n      <td>5</td>\n      <td>277</td>\n    </tr>\n    <tr>\n      <th>18</th>\n      <td>2022-04-01</td>\n      <td>1</td>\n      <td>1592</td>\n    </tr>\n    <tr>\n      <th>19</th>\n      <td>2022-04-01</td>\n      <td>2</td>\n      <td>421</td>\n    </tr>\n    <tr>\n      <th>20</th>\n      <td>2022-04-01</td>\n      <td>3</td>\n      <td>389</td>\n    </tr>\n    <tr>\n      <th>21</th>\n      <td>2022-04-01</td>\n      <td>4</td>\n      <td>391</td>\n    </tr>\n    <tr>\n      <th>22</th>\n      <td>2022-05-01</td>\n      <td>1</td>\n      <td>1192</td>\n    </tr>\n    <tr>\n      <th>23</th>\n      <td>2022-05-01</td>\n      <td>2</td>\n      <td>352</td>\n    </tr>\n    <tr>\n      <th>24</th>\n      <td>2022-05-01</td>\n      <td>3</td>\n      <td>287</td>\n    </tr>\n    <tr>\n      <th>25</th>\n      <td>2022-06-01</td>\n      <td>1</td>\n      <td>1397</td>\n    </tr>\n    <tr>\n      <th>26</th>\n      <td>2022-06-01</td>\n      <td>2</td>\n      <td>405</td>\n    </tr>\n    <tr>\n      <th>27</th>\n      <td>2022-07-01</td>\n      <td>1</td>\n      <td>1515</td>\n    </tr>\n  </tbody>\n</table>\n</div>"
     },
     "execution_count": 35,
     "metadata": {},
     "output_type": "execute_result"
    }
   ],
   "source": [
    "cohort_data = df.groupby(['cohort_month', 'CohortIndex'])['user_id'].apply(pd.Series.nunique).reset_index()\n",
    "cohort_data"
   ],
   "metadata": {
    "collapsed": false,
    "pycharm": {
     "name": "#%%\n"
    }
   }
  },
  {
   "cell_type": "code",
   "execution_count": 36,
   "outputs": [
    {
     "data": {
      "text/plain": "CohortIndex        1      2      3      4      5      6      7\ncohort_month                                                  \n2022-01-01    1492.0  457.0  365.0  378.0  316.0  317.0  324.0\n2022-02-01    1539.0  385.0  393.0  362.0  354.0  337.0    NaN\n2022-03-01    1258.0  306.0  275.0  259.0  277.0    NaN    NaN\n2022-04-01    1592.0  421.0  389.0  391.0    NaN    NaN    NaN\n2022-05-01    1192.0  352.0  287.0    NaN    NaN    NaN    NaN\n2022-06-01    1397.0  405.0    NaN    NaN    NaN    NaN    NaN\n2022-07-01    1515.0    NaN    NaN    NaN    NaN    NaN    NaN",
      "text/html": "<div>\n<style scoped>\n    .dataframe tbody tr th:only-of-type {\n        vertical-align: middle;\n    }\n\n    .dataframe tbody tr th {\n        vertical-align: top;\n    }\n\n    .dataframe thead th {\n        text-align: right;\n    }\n</style>\n<table border=\"1\" class=\"dataframe\">\n  <thead>\n    <tr style=\"text-align: right;\">\n      <th>CohortIndex</th>\n      <th>1</th>\n      <th>2</th>\n      <th>3</th>\n      <th>4</th>\n      <th>5</th>\n      <th>6</th>\n      <th>7</th>\n    </tr>\n    <tr>\n      <th>cohort_month</th>\n      <th></th>\n      <th></th>\n      <th></th>\n      <th></th>\n      <th></th>\n      <th></th>\n      <th></th>\n    </tr>\n  </thead>\n  <tbody>\n    <tr>\n      <th>2022-01-01</th>\n      <td>1492.0</td>\n      <td>457.0</td>\n      <td>365.0</td>\n      <td>378.0</td>\n      <td>316.0</td>\n      <td>317.0</td>\n      <td>324.0</td>\n    </tr>\n    <tr>\n      <th>2022-02-01</th>\n      <td>1539.0</td>\n      <td>385.0</td>\n      <td>393.0</td>\n      <td>362.0</td>\n      <td>354.0</td>\n      <td>337.0</td>\n      <td>NaN</td>\n    </tr>\n    <tr>\n      <th>2022-03-01</th>\n      <td>1258.0</td>\n      <td>306.0</td>\n      <td>275.0</td>\n      <td>259.0</td>\n      <td>277.0</td>\n      <td>NaN</td>\n      <td>NaN</td>\n    </tr>\n    <tr>\n      <th>2022-04-01</th>\n      <td>1592.0</td>\n      <td>421.0</td>\n      <td>389.0</td>\n      <td>391.0</td>\n      <td>NaN</td>\n      <td>NaN</td>\n      <td>NaN</td>\n    </tr>\n    <tr>\n      <th>2022-05-01</th>\n      <td>1192.0</td>\n      <td>352.0</td>\n      <td>287.0</td>\n      <td>NaN</td>\n      <td>NaN</td>\n      <td>NaN</td>\n      <td>NaN</td>\n    </tr>\n    <tr>\n      <th>2022-06-01</th>\n      <td>1397.0</td>\n      <td>405.0</td>\n      <td>NaN</td>\n      <td>NaN</td>\n      <td>NaN</td>\n      <td>NaN</td>\n      <td>NaN</td>\n    </tr>\n    <tr>\n      <th>2022-07-01</th>\n      <td>1515.0</td>\n      <td>NaN</td>\n      <td>NaN</td>\n      <td>NaN</td>\n      <td>NaN</td>\n      <td>NaN</td>\n      <td>NaN</td>\n    </tr>\n  </tbody>\n</table>\n</div>"
     },
     "execution_count": 36,
     "metadata": {},
     "output_type": "execute_result"
    }
   ],
   "source": [
    "cohort_table = cohort_data.pivot(index='cohort_month', columns=['CohortIndex'], values='user_id')\n",
    "cohort_table"
   ],
   "metadata": {
    "collapsed": false,
    "pycharm": {
     "name": "#%%\n"
    }
   }
  },
  {
   "cell_type": "code",
   "execution_count": 37,
   "outputs": [],
   "source": [
    "cohort_table.index = cohort_table.index.strftime('%B %Y')"
   ],
   "metadata": {
    "collapsed": false,
    "pycharm": {
     "name": "#%%\n"
    }
   }
  },
  {
   "cell_type": "code",
   "execution_count": 38,
   "outputs": [
    {
     "data": {
      "text/plain": "CohortIndex      1         2         3         4         5         6         7\ncohort_month                                                                  \nJanuary 2022   1.0  0.306300  0.244638  0.253351  0.211796  0.212466  0.217158\nFebruary 2022  1.0  0.250162  0.255361  0.235218  0.230019  0.218973       NaN\nMarch 2022     1.0  0.243243  0.218601  0.205882  0.220191       NaN       NaN\nApril 2022     1.0  0.264447  0.244347  0.245603       NaN       NaN       NaN\nMay 2022       1.0  0.295302  0.240772       NaN       NaN       NaN       NaN\nJune 2022      1.0  0.289907       NaN       NaN       NaN       NaN       NaN\nJuly 2022      1.0       NaN       NaN       NaN       NaN       NaN       NaN",
      "text/html": "<div>\n<style scoped>\n    .dataframe tbody tr th:only-of-type {\n        vertical-align: middle;\n    }\n\n    .dataframe tbody tr th {\n        vertical-align: top;\n    }\n\n    .dataframe thead th {\n        text-align: right;\n    }\n</style>\n<table border=\"1\" class=\"dataframe\">\n  <thead>\n    <tr style=\"text-align: right;\">\n      <th>CohortIndex</th>\n      <th>1</th>\n      <th>2</th>\n      <th>3</th>\n      <th>4</th>\n      <th>5</th>\n      <th>6</th>\n      <th>7</th>\n    </tr>\n    <tr>\n      <th>cohort_month</th>\n      <th></th>\n      <th></th>\n      <th></th>\n      <th></th>\n      <th></th>\n      <th></th>\n      <th></th>\n    </tr>\n  </thead>\n  <tbody>\n    <tr>\n      <th>January 2022</th>\n      <td>1.0</td>\n      <td>0.306300</td>\n      <td>0.244638</td>\n      <td>0.253351</td>\n      <td>0.211796</td>\n      <td>0.212466</td>\n      <td>0.217158</td>\n    </tr>\n    <tr>\n      <th>February 2022</th>\n      <td>1.0</td>\n      <td>0.250162</td>\n      <td>0.255361</td>\n      <td>0.235218</td>\n      <td>0.230019</td>\n      <td>0.218973</td>\n      <td>NaN</td>\n    </tr>\n    <tr>\n      <th>March 2022</th>\n      <td>1.0</td>\n      <td>0.243243</td>\n      <td>0.218601</td>\n      <td>0.205882</td>\n      <td>0.220191</td>\n      <td>NaN</td>\n      <td>NaN</td>\n    </tr>\n    <tr>\n      <th>April 2022</th>\n      <td>1.0</td>\n      <td>0.264447</td>\n      <td>0.244347</td>\n      <td>0.245603</td>\n      <td>NaN</td>\n      <td>NaN</td>\n      <td>NaN</td>\n    </tr>\n    <tr>\n      <th>May 2022</th>\n      <td>1.0</td>\n      <td>0.295302</td>\n      <td>0.240772</td>\n      <td>NaN</td>\n      <td>NaN</td>\n      <td>NaN</td>\n      <td>NaN</td>\n    </tr>\n    <tr>\n      <th>June 2022</th>\n      <td>1.0</td>\n      <td>0.289907</td>\n      <td>NaN</td>\n      <td>NaN</td>\n      <td>NaN</td>\n      <td>NaN</td>\n      <td>NaN</td>\n    </tr>\n    <tr>\n      <th>July 2022</th>\n      <td>1.0</td>\n      <td>NaN</td>\n      <td>NaN</td>\n      <td>NaN</td>\n      <td>NaN</td>\n      <td>NaN</td>\n      <td>NaN</td>\n    </tr>\n  </tbody>\n</table>\n</div>"
     },
     "execution_count": 38,
     "metadata": {},
     "output_type": "execute_result"
    }
   ],
   "source": [
    "new_cohort_table = cohort_table.divide(cohort_table.iloc[:, 0], axis=0)\n",
    "new_cohort_table.round(3) * 100\n",
    "new_cohort_table"
   ],
   "metadata": {
    "collapsed": false,
    "pycharm": {
     "name": "#%%\n"
    }
   }
  },
  {
   "cell_type": "code",
   "execution_count": 39,
   "outputs": [
    {
     "data": {
      "text/plain": "<AxesSubplot:title={'center':'Cohort Analysis'}, xlabel='CohortIndex', ylabel='cohort_month'>"
     },
     "execution_count": 39,
     "metadata": {},
     "output_type": "execute_result"
    },
    {
     "data": {
      "text/plain": "<Figure size 1080x720 with 2 Axes>",
      "image/png": "[encoded data removed]"
     },
     "metadata": {},
     "output_type": "display_data"
    }
   ],
   "source": [
    "plt.figure(figsize=(15, 10))\n",
    "plt.title('Cohort Analysis')\n",
    "sns.heatmap(data=new_cohort_table, annot=True, vmin=0, vmax=0.4, cmap='BuGn', fmt='.0%')"
   ],
   "metadata": {
    "collapsed": false,
    "pycharm": {
     "name": "#%%\n"
    }
   }
  },
  {
   "cell_type": "code",
   "execution_count": 40,
   "outputs": [
    {
     "data": {
      "text/plain": "created_at\n2022-07-31    6395\nFreq: M, dtype: int64"
     },
     "execution_count": 40,
     "metadata": {},
     "output_type": "execute_result"
    }
   ],
   "source": [
    "resample_df = df.resample(\"1M\", on=\"created_at\").size()\n",
    "resample_df[(resample_df.index.year == 2022) & (resample_df.index.month == 7)]"
   ],
   "metadata": {
    "collapsed": false,
    "pycharm": {
     "name": "#%%\n"
    }
   }
  },
  {
   "cell_type": "code",
   "execution_count": 41,
   "outputs": [
    {
     "name": "stdout",
     "output_type": "stream",
     "text": [
      "27.49\n"
     ]
    },
    {
     "data": {
      "text/plain": "1758"
     },
     "execution_count": 41,
     "metadata": {},
     "output_type": "execute_result"
    }
   ],
   "source": [
    "print(round(new_cohort_table[2].mean() * 100, 2))\n",
    "round(new_cohort_table[2].mean() * (resample_df[(resample_df.index.year == 2022) & (resample_df.index.month == 7)])[0])"
   ],
   "metadata": {
    "collapsed": false,
    "pycharm": {
     "name": "#%%\n"
    }
   }
  }
 ],
 "metadata": {
  "kernelspec": {
   "display_name": "Python 3",
   "language": "python",
   "name": "python3"
  },
  "language_info": {
   "codemirror_mode": {
    "name": "ipython",
    "version": 2
   },
   "file_extension": ".py",
   "mimetype": "text/x-python",
   "name": "python",
   "nbconvert_exporter": "python",
   "pygments_lexer": "ipython2",
   "version": "2.7.6"
  }
 },
 "nbformat": 4,
 "nbformat_minor": 0
}