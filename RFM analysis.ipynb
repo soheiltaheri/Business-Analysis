{
 "cells": [
  {
   "cell_type": "code",
   "execution_count": 36,
   "outputs": [],
   "source": [
    "import pandas as pd\n",
    "import matplotlib.pyplot as plt\n",
    "import datetime as dt"
   ],
   "metadata": {
    "collapsed": false,
    "pycharm": {
     "name": "#%%\n"
    }
   }
  },
  {
   "cell_type": "code",
   "execution_count": 37,
   "outputs": [
    {
     "data": {
      "text/plain": "   order_id  user_id  created_at  discount_cost  discount_type  basket\n0         1        1   4/12/2021          10000            1.0   12000\n1         2        2    5/9/2021              0            NaN   20000\n2         3        3    5/9/2021          10000            1.0   14000\n3         4        4  11/10/2021              0            NaN   15000\n4         5        5  11/10/2021          10000            1.0   16000",
      "text/html": "<div>\n<style scoped>\n    .dataframe tbody tr th:only-of-type {\n        vertical-align: middle;\n    }\n\n    .dataframe tbody tr th {\n        vertical-align: top;\n    }\n\n    .dataframe thead th {\n        text-align: right;\n    }\n</style>\n<table border=\"1\" class=\"dataframe\">\n  <thead>\n    <tr style=\"text-align: right;\">\n      <th></th>\n      <th>order_id</th>\n      <th>user_id</th>\n      <th>created_at</th>\n      <th>discount_cost</th>\n      <th>discount_type</th>\n      <th>basket</th>\n    </tr>\n  </thead>\n  <tbody>\n    <tr>\n      <th>0</th>\n      <td>1</td>\n      <td>1</td>\n      <td>4/12/2021</td>\n      <td>10000</td>\n      <td>1.0</td>\n      <td>12000</td>\n    </tr>\n    <tr>\n      <th>1</th>\n      <td>2</td>\n      <td>2</td>\n      <td>5/9/2021</td>\n      <td>0</td>\n      <td>NaN</td>\n      <td>20000</td>\n    </tr>\n    <tr>\n      <th>2</th>\n      <td>3</td>\n      <td>3</td>\n      <td>5/9/2021</td>\n      <td>10000</td>\n      <td>1.0</td>\n      <td>14000</td>\n    </tr>\n    <tr>\n      <th>3</th>\n      <td>4</td>\n      <td>4</td>\n      <td>11/10/2021</td>\n      <td>0</td>\n      <td>NaN</td>\n      <td>15000</td>\n    </tr>\n    <tr>\n      <th>4</th>\n      <td>5</td>\n      <td>5</td>\n      <td>11/10/2021</td>\n      <td>10000</td>\n      <td>1.0</td>\n      <td>16000</td>\n    </tr>\n  </tbody>\n</table>\n</div>"
     },
     "execution_count": 37,
     "metadata": {},
     "output_type": "execute_result"
    }
   ],
   "source": [
    "data = pd.read_csv('Sales Data.csv')\n",
    "data.head()"
   ],
   "metadata": {
    "collapsed": false,
    "pycharm": {
     "name": "#%%\n"
    }
   }
  },
  {
   "cell_type": "code",
   "execution_count": 38,
   "outputs": [],
   "source": [
    "data['discount_type'].fillna(0, inplace=True)"
   ],
   "metadata": {
    "collapsed": false,
    "pycharm": {
     "name": "#%%\n"
    }
   }
  },
  {
   "cell_type": "code",
   "execution_count": 39,
   "outputs": [
    {
     "data": {
      "text/plain": "   order_id  user_id created_at  discount_cost  discount_type  basket\n0         1        1 2021-04-12          10000            1.0   12000\n1         2        2 2021-05-09              0            0.0   20000\n2         3        3 2021-05-09          10000            1.0   14000\n3         4        4 2021-11-10              0            0.0   15000\n4         5        5 2021-11-10          10000            1.0   16000",
      "text/html": "<div>\n<style scoped>\n    .dataframe tbody tr th:only-of-type {\n        vertical-align: middle;\n    }\n\n    .dataframe tbody tr th {\n        vertical-align: top;\n    }\n\n    .dataframe thead th {\n        text-align: right;\n    }\n</style>\n<table border=\"1\" class=\"dataframe\">\n  <thead>\n    <tr style=\"text-align: right;\">\n      <th></th>\n      <th>order_id</th>\n      <th>user_id</th>\n      <th>created_at</th>\n      <th>discount_cost</th>\n      <th>discount_type</th>\n      <th>basket</th>\n    </tr>\n  </thead>\n  <tbody>\n    <tr>\n      <th>0</th>\n      <td>1</td>\n      <td>1</td>\n      <td>2021-04-12</td>\n      <td>10000</td>\n      <td>1.0</td>\n      <td>12000</td>\n    </tr>\n    <tr>\n      <th>1</th>\n      <td>2</td>\n      <td>2</td>\n      <td>2021-05-09</td>\n      <td>0</td>\n      <td>0.0</td>\n      <td>20000</td>\n    </tr>\n    <tr>\n      <th>2</th>\n      <td>3</td>\n      <td>3</td>\n      <td>2021-05-09</td>\n      <td>10000</td>\n      <td>1.0</td>\n      <td>14000</td>\n    </tr>\n    <tr>\n      <th>3</th>\n      <td>4</td>\n      <td>4</td>\n      <td>2021-11-10</td>\n      <td>0</td>\n      <td>0.0</td>\n      <td>15000</td>\n    </tr>\n    <tr>\n      <th>4</th>\n      <td>5</td>\n      <td>5</td>\n      <td>2021-11-10</td>\n      <td>10000</td>\n      <td>1.0</td>\n      <td>16000</td>\n    </tr>\n  </tbody>\n</table>\n</div>"
     },
     "execution_count": 39,
     "metadata": {},
     "output_type": "execute_result"
    }
   ],
   "source": [
    "data['created_at'] = pd.to_datetime(data['created_at'])\n",
    "data.head()"
   ],
   "metadata": {
    "collapsed": false,
    "pycharm": {
     "name": "#%%\n"
    }
   }
  },
  {
   "cell_type": "code",
   "execution_count": 40,
   "outputs": [
    {
     "name": "stdout",
     "output_type": "stream",
     "text": [
      "<class 'pandas.core.frame.DataFrame'>\n",
      "RangeIndex: 29057 entries, 0 to 29056\n",
      "Data columns (total 6 columns):\n",
      " #   Column         Non-Null Count  Dtype         \n",
      "---  ------         --------------  -----         \n",
      " 0   order_id       29057 non-null  int64         \n",
      " 1   user_id        29057 non-null  int64         \n",
      " 2   created_at     29057 non-null  datetime64[ns]\n",
      " 3   discount_cost  29057 non-null  int64         \n",
      " 4   discount_type  29057 non-null  float64       \n",
      " 5   basket         29057 non-null  int64         \n",
      "dtypes: datetime64[ns](1), float64(1), int64(4)\n",
      "memory usage: 1.3 MB\n"
     ]
    }
   ],
   "source": [
    "data.info()"
   ],
   "metadata": {
    "collapsed": false,
    "pycharm": {
     "name": "#%%\n"
    }
   }
  },
  {
   "cell_type": "code",
   "execution_count": 41,
   "outputs": [
    {
     "data": {
      "text/plain": "Timestamp('2022-07-31 00:00:00')"
     },
     "execution_count": 41,
     "metadata": {},
     "output_type": "execute_result"
    }
   ],
   "source": [
    "last_day = data['created_at'].max()\n",
    "last_day"
   ],
   "metadata": {
    "collapsed": false,
    "pycharm": {
     "name": "#%%\n"
    }
   }
  },
  {
   "cell_type": "code",
   "execution_count": 42,
   "outputs": [
    {
     "data": {
      "text/plain": "Timestamp('2022-08-01 00:00:00')"
     },
     "execution_count": 42,
     "metadata": {},
     "output_type": "execute_result"
    }
   ],
   "source": [
    "goal_day = last_day + dt.timedelta(days=1)\n",
    "pd.to_datetime(goal_day)\n",
    "goal_day"
   ],
   "metadata": {
    "collapsed": false,
    "pycharm": {
     "name": "#%%\n"
    }
   }
  },
  {
   "cell_type": "code",
   "execution_count": 43,
   "outputs": [],
   "source": [
    "rfm = data.groupby('user_id').agg({\n",
    "    'created_at' : lambda date: (goal_day - date.max()).days,\n",
    "    'order_id' : lambda num: len(num),\n",
    "    'basket' : lambda price: price.sum()\n",
    "})"
   ],
   "metadata": {
    "collapsed": false,
    "pycharm": {
     "name": "#%%\n"
    }
   }
  },
  {
   "cell_type": "code",
   "execution_count": 44,
   "outputs": [
    {
     "data": {
      "text/plain": "         created_at  order_id  basket\nuser_id                              \n1                84         4   30200\n2                58         2   61000\n3                14         4   63500\n4               114         3   69600\n5               195         2   31500",
      "text/html": "<div>\n<style scoped>\n    .dataframe tbody tr th:only-of-type {\n        vertical-align: middle;\n    }\n\n    .dataframe tbody tr th {\n        vertical-align: top;\n    }\n\n    .dataframe thead th {\n        text-align: right;\n    }\n</style>\n<table border=\"1\" class=\"dataframe\">\n  <thead>\n    <tr style=\"text-align: right;\">\n      <th></th>\n      <th>created_at</th>\n      <th>order_id</th>\n      <th>basket</th>\n    </tr>\n    <tr>\n      <th>user_id</th>\n      <th></th>\n      <th></th>\n      <th></th>\n    </tr>\n  </thead>\n  <tbody>\n    <tr>\n      <th>1</th>\n      <td>84</td>\n      <td>4</td>\n      <td>30200</td>\n    </tr>\n    <tr>\n      <th>2</th>\n      <td>58</td>\n      <td>2</td>\n      <td>61000</td>\n    </tr>\n    <tr>\n      <th>3</th>\n      <td>14</td>\n      <td>4</td>\n      <td>63500</td>\n    </tr>\n    <tr>\n      <th>4</th>\n      <td>114</td>\n      <td>3</td>\n      <td>69600</td>\n    </tr>\n    <tr>\n      <th>5</th>\n      <td>195</td>\n      <td>2</td>\n      <td>31500</td>\n    </tr>\n  </tbody>\n</table>\n</div>"
     },
     "execution_count": 44,
     "metadata": {},
     "output_type": "execute_result"
    }
   ],
   "source": [
    "rfm.head()"
   ],
   "metadata": {
    "collapsed": false,
    "pycharm": {
     "name": "#%%\n"
    }
   }
  },
  {
   "cell_type": "code",
   "execution_count": 45,
   "outputs": [],
   "source": [
    "rfm.columns = ['recency', 'frequency', 'monetary']"
   ],
   "metadata": {
    "collapsed": false,
    "pycharm": {
     "name": "#%%\n"
    }
   }
  },
  {
   "cell_type": "code",
   "execution_count": 46,
   "outputs": [
    {
     "name": "stdout",
     "output_type": "stream",
     "text": [
      "<class 'pandas.core.frame.DataFrame'>\n",
      "Int64Index: 9985 entries, 1 to 9985\n",
      "Data columns (total 3 columns):\n",
      " #   Column     Non-Null Count  Dtype\n",
      "---  ------     --------------  -----\n",
      " 0   recency    9985 non-null   int64\n",
      " 1   frequency  9985 non-null   int64\n",
      " 2   monetary   9985 non-null   int64\n",
      "dtypes: int64(3)\n",
      "memory usage: 312.0 KB\n"
     ]
    }
   ],
   "source": [
    "rfm.info()"
   ],
   "metadata": {
    "collapsed": false,
    "pycharm": {
     "name": "#%%\n"
    }
   }
  },
  {
   "cell_type": "code",
   "execution_count": 47,
   "outputs": [
    {
     "data": {
      "text/plain": "Index(['recency', 'frequency', 'monetary'], dtype='object')"
     },
     "execution_count": 47,
     "metadata": {},
     "output_type": "execute_result"
    }
   ],
   "source": [
    "rfm.columns"
   ],
   "metadata": {
    "collapsed": false,
    "pycharm": {
     "name": "#%%\n"
    }
   }
  },
  {
   "cell_type": "code",
   "execution_count": 48,
   "outputs": [],
   "source": [
    "rfm['recency'] = rfm['recency'].astype('int')"
   ],
   "metadata": {
    "collapsed": false,
    "pycharm": {
     "name": "#%%\n"
    }
   }
  },
  {
   "cell_type": "code",
   "execution_count": 49,
   "outputs": [
    {
     "data": {
      "text/plain": "         recency  frequency  monetary\nuser_id                              \n1             84          4     30200\n2             58          2     61000\n3             14          4     63500\n4            114          3     69600\n5            195          2     31500",
      "text/html": "<div>\n<style scoped>\n    .dataframe tbody tr th:only-of-type {\n        vertical-align: middle;\n    }\n\n    .dataframe tbody tr th {\n        vertical-align: top;\n    }\n\n    .dataframe thead th {\n        text-align: right;\n    }\n</style>\n<table border=\"1\" class=\"dataframe\">\n  <thead>\n    <tr style=\"text-align: right;\">\n      <th></th>\n      <th>recency</th>\n      <th>frequency</th>\n      <th>monetary</th>\n    </tr>\n    <tr>\n      <th>user_id</th>\n      <th></th>\n      <th></th>\n      <th></th>\n    </tr>\n  </thead>\n  <tbody>\n    <tr>\n      <th>1</th>\n      <td>84</td>\n      <td>4</td>\n      <td>30200</td>\n    </tr>\n    <tr>\n      <th>2</th>\n      <td>58</td>\n      <td>2</td>\n      <td>61000</td>\n    </tr>\n    <tr>\n      <th>3</th>\n      <td>14</td>\n      <td>4</td>\n      <td>63500</td>\n    </tr>\n    <tr>\n      <th>4</th>\n      <td>114</td>\n      <td>3</td>\n      <td>69600</td>\n    </tr>\n    <tr>\n      <th>5</th>\n      <td>195</td>\n      <td>2</td>\n      <td>31500</td>\n    </tr>\n  </tbody>\n</table>\n</div>"
     },
     "execution_count": 49,
     "metadata": {},
     "output_type": "execute_result"
    }
   ],
   "source": [
    "rfm.head()"
   ],
   "metadata": {
    "collapsed": false,
    "pycharm": {
     "name": "#%%\n"
    }
   }
  },
  {
   "cell_type": "code",
   "execution_count": 50,
   "outputs": [],
   "source": [
    "rfm[\"R\"] = pd.qcut(rfm[\"recency\"],5,labels=[5,4,3,2,1])\n",
    "rfm[\"F\"] = pd.qcut(rfm[\"frequency\"].rank(method='first'),5,labels=[1,2,3,4,5])\n",
    "rfm[\"M\"] = pd.qcut(rfm[\"monetary\"],5,labels=[1,2,3,4,5])\n",
    "rfm[\"RFM_Score\"] = rfm[\"R\"].astype(str) + rfm[\"F\"].astype(str) + rfm[\"M\"].astype(str)"
   ],
   "metadata": {
    "collapsed": false,
    "pycharm": {
     "name": "#%%\n"
    }
   }
  },
  {
   "cell_type": "code",
   "execution_count": 51,
   "outputs": [
    {
     "data": {
      "text/plain": "         recency  frequency  monetary  R  F  M RFM_Score\nuser_id                                                 \n1             84          4     30200  2  4  3       243\n2             58          2     61000  3  3  4       334\n3             14          4     63500  5  4  4       544\n4            114          3     69600  2  4  4       244\n5            195          2     31500  1  3  3       133",
      "text/html": "<div>\n<style scoped>\n    .dataframe tbody tr th:only-of-type {\n        vertical-align: middle;\n    }\n\n    .dataframe tbody tr th {\n        vertical-align: top;\n    }\n\n    .dataframe thead th {\n        text-align: right;\n    }\n</style>\n<table border=\"1\" class=\"dataframe\">\n  <thead>\n    <tr style=\"text-align: right;\">\n      <th></th>\n      <th>recency</th>\n      <th>frequency</th>\n      <th>monetary</th>\n      <th>R</th>\n      <th>F</th>\n      <th>M</th>\n      <th>RFM_Score</th>\n    </tr>\n    <tr>\n      <th>user_id</th>\n      <th></th>\n      <th></th>\n      <th></th>\n      <th></th>\n      <th></th>\n      <th></th>\n      <th></th>\n    </tr>\n  </thead>\n  <tbody>\n    <tr>\n      <th>1</th>\n      <td>84</td>\n      <td>4</td>\n      <td>30200</td>\n      <td>2</td>\n      <td>4</td>\n      <td>3</td>\n      <td>243</td>\n    </tr>\n    <tr>\n      <th>2</th>\n      <td>58</td>\n      <td>2</td>\n      <td>61000</td>\n      <td>3</td>\n      <td>3</td>\n      <td>4</td>\n      <td>334</td>\n    </tr>\n    <tr>\n      <th>3</th>\n      <td>14</td>\n      <td>4</td>\n      <td>63500</td>\n      <td>5</td>\n      <td>4</td>\n      <td>4</td>\n      <td>544</td>\n    </tr>\n    <tr>\n      <th>4</th>\n      <td>114</td>\n      <td>3</td>\n      <td>69600</td>\n      <td>2</td>\n      <td>4</td>\n      <td>4</td>\n      <td>244</td>\n    </tr>\n    <tr>\n      <th>5</th>\n      <td>195</td>\n      <td>2</td>\n      <td>31500</td>\n      <td>1</td>\n      <td>3</td>\n      <td>3</td>\n      <td>133</td>\n    </tr>\n  </tbody>\n</table>\n</div>"
     },
     "execution_count": 51,
     "metadata": {},
     "output_type": "execute_result"
    }
   ],
   "source": [
    "rfm.head()"
   ],
   "metadata": {
    "collapsed": false,
    "pycharm": {
     "name": "#%%\n"
    }
   }
  },
  {
   "cell_type": "code",
   "execution_count": 52,
   "outputs": [],
   "source": [
    "seg_map = {\n",
    "    r'[1-2][1-2]': 'Hibernating',\n",
    "    r'[1-2][3-4]': 'At Risk',\n",
    "    r'[1-2]5': 'Can\\'t Loose',\n",
    "    r'3[1-2]': 'About to Sleep',\n",
    "    r'33': 'Need Attention',\n",
    "    r'[3-4][4-5]': 'Loyal Customers',\n",
    "    r'41': 'Promising',\n",
    "    r'51': 'New Customers',\n",
    "    r'[4-5][2-3]': 'Potential Loyalists',\n",
    "    r'5[4-5]': 'Champions'\n",
    "}"
   ],
   "metadata": {
    "collapsed": false,
    "pycharm": {
     "name": "#%%\n"
    }
   }
  },
  {
   "cell_type": "code",
   "execution_count": 53,
   "outputs": [
    {
     "data": {
      "text/plain": "         recency  frequency  monetary  R  F  M RFM_Score         Segment\nuser_id                                                                 \n1             84          4     30200  2  4  3       243         At Risk\n2             58          2     61000  3  3  4       334  Need Attention\n3             14          4     63500  5  4  4       544       Champions\n4            114          3     69600  2  4  4       244         At Risk\n5            195          2     31500  1  3  3       133         At Risk",
      "text/html": "<div>\n<style scoped>\n    .dataframe tbody tr th:only-of-type {\n        vertical-align: middle;\n    }\n\n    .dataframe tbody tr th {\n        vertical-align: top;\n    }\n\n    .dataframe thead th {\n        text-align: right;\n    }\n</style>\n<table border=\"1\" class=\"dataframe\">\n  <thead>\n    <tr style=\"text-align: right;\">\n      <th></th>\n      <th>recency</th>\n      <th>frequency</th>\n      <th>monetary</th>\n      <th>R</th>\n      <th>F</th>\n      <th>M</th>\n      <th>RFM_Score</th>\n      <th>Segment</th>\n    </tr>\n    <tr>\n      <th>user_id</th>\n      <th></th>\n      <th></th>\n      <th></th>\n      <th></th>\n      <th></th>\n      <th></th>\n      <th></th>\n      <th></th>\n    </tr>\n  </thead>\n  <tbody>\n    <tr>\n      <th>1</th>\n      <td>84</td>\n      <td>4</td>\n      <td>30200</td>\n      <td>2</td>\n      <td>4</td>\n      <td>3</td>\n      <td>243</td>\n      <td>At Risk</td>\n    </tr>\n    <tr>\n      <th>2</th>\n      <td>58</td>\n      <td>2</td>\n      <td>61000</td>\n      <td>3</td>\n      <td>3</td>\n      <td>4</td>\n      <td>334</td>\n      <td>Need Attention</td>\n    </tr>\n    <tr>\n      <th>3</th>\n      <td>14</td>\n      <td>4</td>\n      <td>63500</td>\n      <td>5</td>\n      <td>4</td>\n      <td>4</td>\n      <td>544</td>\n      <td>Champions</td>\n    </tr>\n    <tr>\n      <th>4</th>\n      <td>114</td>\n      <td>3</td>\n      <td>69600</td>\n      <td>2</td>\n      <td>4</td>\n      <td>4</td>\n      <td>244</td>\n      <td>At Risk</td>\n    </tr>\n    <tr>\n      <th>5</th>\n      <td>195</td>\n      <td>2</td>\n      <td>31500</td>\n      <td>1</td>\n      <td>3</td>\n      <td>3</td>\n      <td>133</td>\n      <td>At Risk</td>\n    </tr>\n  </tbody>\n</table>\n</div>"
     },
     "execution_count": 53,
     "metadata": {},
     "output_type": "execute_result"
    }
   ],
   "source": [
    "rfm['Segment'] = rfm['R'].astype(str) + rfm['F'].astype(str)\n",
    "rfm['Segment'] = rfm['Segment'].replace(seg_map, regex=True)\n",
    "rfm.head()"
   ],
   "metadata": {
    "collapsed": false,
    "pycharm": {
     "name": "#%%\n"
    }
   }
  },
  {
   "cell_type": "code",
   "execution_count": 54,
   "outputs": [
    {
     "data": {
      "text/plain": "   user_id  recency  frequency  monetary  R  F  M RFM_Score         Segment\n0        1       84          4     30200  2  4  3       243         At Risk\n1        2       58          2     61000  3  3  4       334  Need Attention\n2        3       14          4     63500  5  4  4       544       Champions\n3        4      114          3     69600  2  4  4       244         At Risk\n4        5      195          2     31500  1  3  3       133         At Risk",
      "text/html": "<div>\n<style scoped>\n    .dataframe tbody tr th:only-of-type {\n        vertical-align: middle;\n    }\n\n    .dataframe tbody tr th {\n        vertical-align: top;\n    }\n\n    .dataframe thead th {\n        text-align: right;\n    }\n</style>\n<table border=\"1\" class=\"dataframe\">\n  <thead>\n    <tr style=\"text-align: right;\">\n      <th></th>\n      <th>user_id</th>\n      <th>recency</th>\n      <th>frequency</th>\n      <th>monetary</th>\n      <th>R</th>\n      <th>F</th>\n      <th>M</th>\n      <th>RFM_Score</th>\n      <th>Segment</th>\n    </tr>\n  </thead>\n  <tbody>\n    <tr>\n      <th>0</th>\n      <td>1</td>\n      <td>84</td>\n      <td>4</td>\n      <td>30200</td>\n      <td>2</td>\n      <td>4</td>\n      <td>3</td>\n      <td>243</td>\n      <td>At Risk</td>\n    </tr>\n    <tr>\n      <th>1</th>\n      <td>2</td>\n      <td>58</td>\n      <td>2</td>\n      <td>61000</td>\n      <td>3</td>\n      <td>3</td>\n      <td>4</td>\n      <td>334</td>\n      <td>Need Attention</td>\n    </tr>\n    <tr>\n      <th>2</th>\n      <td>3</td>\n      <td>14</td>\n      <td>4</td>\n      <td>63500</td>\n      <td>5</td>\n      <td>4</td>\n      <td>4</td>\n      <td>544</td>\n      <td>Champions</td>\n    </tr>\n    <tr>\n      <th>3</th>\n      <td>4</td>\n      <td>114</td>\n      <td>3</td>\n      <td>69600</td>\n      <td>2</td>\n      <td>4</td>\n      <td>4</td>\n      <td>244</td>\n      <td>At Risk</td>\n    </tr>\n    <tr>\n      <th>4</th>\n      <td>5</td>\n      <td>195</td>\n      <td>2</td>\n      <td>31500</td>\n      <td>1</td>\n      <td>3</td>\n      <td>3</td>\n      <td>133</td>\n      <td>At Risk</td>\n    </tr>\n  </tbody>\n</table>\n</div>"
     },
     "execution_count": 54,
     "metadata": {},
     "output_type": "execute_result"
    }
   ],
   "source": [
    "rfm = rfm.reset_index()\n",
    "rfm.head()"
   ],
   "metadata": {
    "collapsed": false,
    "pycharm": {
     "name": "#%%\n"
    }
   }
  },
  {
   "cell_type": "code",
   "execution_count": 55,
   "outputs": [
    {
     "data": {
      "text/plain": "   user_id RFM_Score         Segment\n0        1       243         At Risk\n1        2       334  Need Attention\n2        3       544       Champions\n3        4       244         At Risk\n4        5       133         At Risk",
      "text/html": "<div>\n<style scoped>\n    .dataframe tbody tr th:only-of-type {\n        vertical-align: middle;\n    }\n\n    .dataframe tbody tr th {\n        vertical-align: top;\n    }\n\n    .dataframe thead th {\n        text-align: right;\n    }\n</style>\n<table border=\"1\" class=\"dataframe\">\n  <thead>\n    <tr style=\"text-align: right;\">\n      <th></th>\n      <th>user_id</th>\n      <th>RFM_Score</th>\n      <th>Segment</th>\n    </tr>\n  </thead>\n  <tbody>\n    <tr>\n      <th>0</th>\n      <td>1</td>\n      <td>243</td>\n      <td>At Risk</td>\n    </tr>\n    <tr>\n      <th>1</th>\n      <td>2</td>\n      <td>334</td>\n      <td>Need Attention</td>\n    </tr>\n    <tr>\n      <th>2</th>\n      <td>3</td>\n      <td>544</td>\n      <td>Champions</td>\n    </tr>\n    <tr>\n      <th>3</th>\n      <td>4</td>\n      <td>244</td>\n      <td>At Risk</td>\n    </tr>\n    <tr>\n      <th>4</th>\n      <td>5</td>\n      <td>133</td>\n      <td>At Risk</td>\n    </tr>\n  </tbody>\n</table>\n</div>"
     },
     "execution_count": 55,
     "metadata": {},
     "output_type": "execute_result"
    }
   ],
   "source": [
    "rfm = rfm[['user_id','RFM_Score', 'Segment']]\n",
    "rfm.head()"
   ],
   "metadata": {
    "collapsed": false,
    "pycharm": {
     "name": "#%%\n"
    }
   }
  },
  {
   "cell_type": "code",
   "execution_count": 56,
   "outputs": [
    {
     "data": {
      "text/plain": "   order_id  user_id created_at  discount_cost  discount_type  basket  \\\n0         1        1 2021-04-12          10000            1.0   12000   \n1      7704        1 2022-03-28              0            0.0    6400   \n2      7981        1 2022-03-31              0            0.0    5000   \n3     13985        1 2022-05-09              0            0.0    6800   \n4         2        2 2021-05-09              0            0.0   20000   \n\n  RFM_Score         Segment  \n0       243         At Risk  \n1       243         At Risk  \n2       243         At Risk  \n3       243         At Risk  \n4       334  Need Attention  ",
      "text/html": "<div>\n<style scoped>\n    .dataframe tbody tr th:only-of-type {\n        vertical-align: middle;\n    }\n\n    .dataframe tbody tr th {\n        vertical-align: top;\n    }\n\n    .dataframe thead th {\n        text-align: right;\n    }\n</style>\n<table border=\"1\" class=\"dataframe\">\n  <thead>\n    <tr style=\"text-align: right;\">\n      <th></th>\n      <th>order_id</th>\n      <th>user_id</th>\n      <th>created_at</th>\n      <th>discount_cost</th>\n      <th>discount_type</th>\n      <th>basket</th>\n      <th>RFM_Score</th>\n      <th>Segment</th>\n    </tr>\n  </thead>\n  <tbody>\n    <tr>\n      <th>0</th>\n      <td>1</td>\n      <td>1</td>\n      <td>2021-04-12</td>\n      <td>10000</td>\n      <td>1.0</td>\n      <td>12000</td>\n      <td>243</td>\n      <td>At Risk</td>\n    </tr>\n    <tr>\n      <th>1</th>\n      <td>7704</td>\n      <td>1</td>\n      <td>2022-03-28</td>\n      <td>0</td>\n      <td>0.0</td>\n      <td>6400</td>\n      <td>243</td>\n      <td>At Risk</td>\n    </tr>\n    <tr>\n      <th>2</th>\n      <td>7981</td>\n      <td>1</td>\n      <td>2022-03-31</td>\n      <td>0</td>\n      <td>0.0</td>\n      <td>5000</td>\n      <td>243</td>\n      <td>At Risk</td>\n    </tr>\n    <tr>\n      <th>3</th>\n      <td>13985</td>\n      <td>1</td>\n      <td>2022-05-09</td>\n      <td>0</td>\n      <td>0.0</td>\n      <td>6800</td>\n      <td>243</td>\n      <td>At Risk</td>\n    </tr>\n    <tr>\n      <th>4</th>\n      <td>2</td>\n      <td>2</td>\n      <td>2021-05-09</td>\n      <td>0</td>\n      <td>0.0</td>\n      <td>20000</td>\n      <td>334</td>\n      <td>Need Attention</td>\n    </tr>\n  </tbody>\n</table>\n</div>"
     },
     "execution_count": 56,
     "metadata": {},
     "output_type": "execute_result"
    }
   ],
   "source": [
    "dataframe = data.merge(rfm, how='inner', on='user_id')\n",
    "dataframe.head()"
   ],
   "metadata": {
    "collapsed": false,
    "pycharm": {
     "name": "#%%\n"
    }
   }
  },
  {
   "cell_type": "code",
   "execution_count": 57,
   "outputs": [
    {
     "data": {
      "text/plain": "user_id\n1      2021-04-12\n2      2021-05-09\n3      2021-05-09\n4      2021-11-10\n5      2021-11-10\n          ...    \n9981   2022-07-31\n9982   2022-07-31\n9983   2022-07-31\n9984   2022-07-31\n9985   2022-07-31\nName: created_at, Length: 9985, dtype: datetime64[ns]"
     },
     "execution_count": 57,
     "metadata": {},
     "output_type": "execute_result"
    }
   ],
   "source": [
    "df_discount = dataframe.groupby('user_id')['created_at'].min()\n",
    "df_discount"
   ],
   "metadata": {
    "collapsed": false,
    "pycharm": {
     "name": "#%%\n"
    }
   }
  },
  {
   "cell_type": "code",
   "execution_count": 58,
   "outputs": [
    {
     "data": {
      "text/plain": "   user_id created_at\n0        1 2021-04-12\n1        2 2021-05-09\n2        3 2021-05-09\n3        4 2021-11-10\n4        5 2021-11-10",
      "text/html": "<div>\n<style scoped>\n    .dataframe tbody tr th:only-of-type {\n        vertical-align: middle;\n    }\n\n    .dataframe tbody tr th {\n        vertical-align: top;\n    }\n\n    .dataframe thead th {\n        text-align: right;\n    }\n</style>\n<table border=\"1\" class=\"dataframe\">\n  <thead>\n    <tr style=\"text-align: right;\">\n      <th></th>\n      <th>user_id</th>\n      <th>created_at</th>\n    </tr>\n  </thead>\n  <tbody>\n    <tr>\n      <th>0</th>\n      <td>1</td>\n      <td>2021-04-12</td>\n    </tr>\n    <tr>\n      <th>1</th>\n      <td>2</td>\n      <td>2021-05-09</td>\n    </tr>\n    <tr>\n      <th>2</th>\n      <td>3</td>\n      <td>2021-05-09</td>\n    </tr>\n    <tr>\n      <th>3</th>\n      <td>4</td>\n      <td>2021-11-10</td>\n    </tr>\n    <tr>\n      <th>4</th>\n      <td>5</td>\n      <td>2021-11-10</td>\n    </tr>\n  </tbody>\n</table>\n</div>"
     },
     "execution_count": 58,
     "metadata": {},
     "output_type": "execute_result"
    }
   ],
   "source": [
    "df_discount = df_discount.reset_index()\n",
    "df_discount.head()"
   ],
   "metadata": {
    "collapsed": false,
    "pycharm": {
     "name": "#%%\n"
    }
   }
  },
  {
   "cell_type": "code",
   "execution_count": 59,
   "outputs": [
    {
     "data": {
      "text/plain": "   user_id created_at  discount_type         Segment\n0        1 2021-04-12            1.0         At Risk\n1        2 2021-05-09            0.0  Need Attention\n2        3 2021-05-09            1.0       Champions\n3        4 2021-11-10            0.0         At Risk\n4        5 2021-11-10            1.0         At Risk",
      "text/html": "<div>\n<style scoped>\n    .dataframe tbody tr th:only-of-type {\n        vertical-align: middle;\n    }\n\n    .dataframe tbody tr th {\n        vertical-align: top;\n    }\n\n    .dataframe thead th {\n        text-align: right;\n    }\n</style>\n<table border=\"1\" class=\"dataframe\">\n  <thead>\n    <tr style=\"text-align: right;\">\n      <th></th>\n      <th>user_id</th>\n      <th>created_at</th>\n      <th>discount_type</th>\n      <th>Segment</th>\n    </tr>\n  </thead>\n  <tbody>\n    <tr>\n      <th>0</th>\n      <td>1</td>\n      <td>2021-04-12</td>\n      <td>1.0</td>\n      <td>At Risk</td>\n    </tr>\n    <tr>\n      <th>1</th>\n      <td>2</td>\n      <td>2021-05-09</td>\n      <td>0.0</td>\n      <td>Need Attention</td>\n    </tr>\n    <tr>\n      <th>2</th>\n      <td>3</td>\n      <td>2021-05-09</td>\n      <td>1.0</td>\n      <td>Champions</td>\n    </tr>\n    <tr>\n      <th>3</th>\n      <td>4</td>\n      <td>2021-11-10</td>\n      <td>0.0</td>\n      <td>At Risk</td>\n    </tr>\n    <tr>\n      <th>4</th>\n      <td>5</td>\n      <td>2021-11-10</td>\n      <td>1.0</td>\n      <td>At Risk</td>\n    </tr>\n  </tbody>\n</table>\n</div>"
     },
     "execution_count": 59,
     "metadata": {},
     "output_type": "execute_result"
    }
   ],
   "source": [
    "discount_type = dataframe[['user_id', 'created_at', 'discount_type', 'Segment']].merge(df_discount, how='inner', on=['user_id', 'created_at'])\n",
    "discount_type.head()"
   ],
   "metadata": {
    "collapsed": false,
    "pycharm": {
     "name": "#%%\n"
    }
   }
  },
  {
   "cell_type": "code",
   "execution_count": 60,
   "outputs": [
    {
     "data": {
      "text/plain": "       order_id  user_id created_at  discount_cost  discount_type  basket  \\\n0             1        1 2021-04-12          10000            1.0   12000   \n1          7704        1 2022-03-28              0            0.0    6400   \n2          7981        1 2022-03-31              0            0.0    5000   \n3         13985        1 2022-05-09              0            0.0    6800   \n4             2        2 2021-05-09              0            0.0   20000   \n...         ...      ...        ...            ...            ...     ...   \n29052     29031     9981 2022-07-31          10000            1.0   24000   \n29053     29034     9982 2022-07-31              0            0.0   30000   \n29054     29036     9983 2022-07-31              0            0.0   21000   \n29055     29039     9984 2022-07-31              0            0.0   22000   \n29056     29054     9985 2022-07-31              0            0.0   25000   \n\n      RFM_Score              Segment discount_use  \n0           243              At Risk         used  \n1           243              At Risk     not used  \n2           243              At Risk     not used  \n3           243              At Risk     not used  \n4           334       Need Attention     not used  \n...         ...                  ...          ...  \n29052       533  Potential Loyalists         used  \n29053       533  Potential Loyalists     not used  \n29054       532  Potential Loyalists     not used  \n29055       532  Potential Loyalists     not used  \n29056       533  Potential Loyalists     not used  \n\n[29057 rows x 9 columns]",
      "text/html": "<div>\n<style scoped>\n    .dataframe tbody tr th:only-of-type {\n        vertical-align: middle;\n    }\n\n    .dataframe tbody tr th {\n        vertical-align: top;\n    }\n\n    .dataframe thead th {\n        text-align: right;\n    }\n</style>\n<table border=\"1\" class=\"dataframe\">\n  <thead>\n    <tr style=\"text-align: right;\">\n      <th></th>\n      <th>order_id</th>\n      <th>user_id</th>\n      <th>created_at</th>\n      <th>discount_cost</th>\n      <th>discount_type</th>\n      <th>basket</th>\n      <th>RFM_Score</th>\n      <th>Segment</th>\n      <th>discount_use</th>\n    </tr>\n  </thead>\n  <tbody>\n    <tr>\n      <th>0</th>\n      <td>1</td>\n      <td>1</td>\n      <td>2021-04-12</td>\n      <td>10000</td>\n      <td>1.0</td>\n      <td>12000</td>\n      <td>243</td>\n      <td>At Risk</td>\n      <td>used</td>\n    </tr>\n    <tr>\n      <th>1</th>\n      <td>7704</td>\n      <td>1</td>\n      <td>2022-03-28</td>\n      <td>0</td>\n      <td>0.0</td>\n      <td>6400</td>\n      <td>243</td>\n      <td>At Risk</td>\n      <td>not used</td>\n    </tr>\n    <tr>\n      <th>2</th>\n      <td>7981</td>\n      <td>1</td>\n      <td>2022-03-31</td>\n      <td>0</td>\n      <td>0.0</td>\n      <td>5000</td>\n      <td>243</td>\n      <td>At Risk</td>\n      <td>not used</td>\n    </tr>\n    <tr>\n      <th>3</th>\n      <td>13985</td>\n      <td>1</td>\n      <td>2022-05-09</td>\n      <td>0</td>\n      <td>0.0</td>\n      <td>6800</td>\n      <td>243</td>\n      <td>At Risk</td>\n      <td>not used</td>\n    </tr>\n    <tr>\n      <th>4</th>\n      <td>2</td>\n      <td>2</td>\n      <td>2021-05-09</td>\n      <td>0</td>\n      <td>0.0</td>\n      <td>20000</td>\n      <td>334</td>\n      <td>Need Attention</td>\n      <td>not used</td>\n    </tr>\n    <tr>\n      <th>...</th>\n      <td>...</td>\n      <td>...</td>\n      <td>...</td>\n      <td>...</td>\n      <td>...</td>\n      <td>...</td>\n      <td>...</td>\n      <td>...</td>\n      <td>...</td>\n    </tr>\n    <tr>\n      <th>29052</th>\n      <td>29031</td>\n      <td>9981</td>\n      <td>2022-07-31</td>\n      <td>10000</td>\n      <td>1.0</td>\n      <td>24000</td>\n      <td>533</td>\n      <td>Potential Loyalists</td>\n      <td>used</td>\n    </tr>\n    <tr>\n      <th>29053</th>\n      <td>29034</td>\n      <td>9982</td>\n      <td>2022-07-31</td>\n      <td>0</td>\n      <td>0.0</td>\n      <td>30000</td>\n      <td>533</td>\n      <td>Potential Loyalists</td>\n      <td>not used</td>\n    </tr>\n    <tr>\n      <th>29054</th>\n      <td>29036</td>\n      <td>9983</td>\n      <td>2022-07-31</td>\n      <td>0</td>\n      <td>0.0</td>\n      <td>21000</td>\n      <td>532</td>\n      <td>Potential Loyalists</td>\n      <td>not used</td>\n    </tr>\n    <tr>\n      <th>29055</th>\n      <td>29039</td>\n      <td>9984</td>\n      <td>2022-07-31</td>\n      <td>0</td>\n      <td>0.0</td>\n      <td>22000</td>\n      <td>532</td>\n      <td>Potential Loyalists</td>\n      <td>not used</td>\n    </tr>\n    <tr>\n      <th>29056</th>\n      <td>29054</td>\n      <td>9985</td>\n      <td>2022-07-31</td>\n      <td>0</td>\n      <td>0.0</td>\n      <td>25000</td>\n      <td>533</td>\n      <td>Potential Loyalists</td>\n      <td>not used</td>\n    </tr>\n  </tbody>\n</table>\n<p>29057 rows × 9 columns</p>\n</div>"
     },
     "execution_count": 60,
     "metadata": {},
     "output_type": "execute_result"
    }
   ],
   "source": [
    "dataframe.loc[dataframe['discount_type'] == 0, 'discount_use'] = 'not used'\n",
    "dataframe.loc[dataframe['discount_type'] != 0, 'discount_use'] = 'used'\n",
    "dataframe.head()"
   ],
   "metadata": {
    "collapsed": false,
    "pycharm": {
     "name": "#%%\n"
    }
   }
  },
  {
   "cell_type": "code",
   "execution_count": 61,
   "outputs": [
    {
     "data": {
      "text/plain": "       user_id created_at discount_use              Segment\n0            1 2021-04-12         used              At Risk\n1            2 2021-05-09     not used       Need Attention\n2            3 2021-05-09         used            Champions\n3            4 2021-11-10     not used              At Risk\n4            5 2021-11-10         used              At Risk\n...        ...        ...          ...                  ...\n10094     9981 2022-07-31         used  Potential Loyalists\n10095     9982 2022-07-31     not used  Potential Loyalists\n10096     9983 2022-07-31     not used  Potential Loyalists\n10097     9984 2022-07-31     not used  Potential Loyalists\n10098     9985 2022-07-31     not used  Potential Loyalists\n\n[10099 rows x 4 columns]",
      "text/html": "<div>\n<style scoped>\n    .dataframe tbody tr th:only-of-type {\n        vertical-align: middle;\n    }\n\n    .dataframe tbody tr th {\n        vertical-align: top;\n    }\n\n    .dataframe thead th {\n        text-align: right;\n    }\n</style>\n<table border=\"1\" class=\"dataframe\">\n  <thead>\n    <tr style=\"text-align: right;\">\n      <th></th>\n      <th>user_id</th>\n      <th>created_at</th>\n      <th>discount_use</th>\n      <th>Segment</th>\n    </tr>\n  </thead>\n  <tbody>\n    <tr>\n      <th>0</th>\n      <td>1</td>\n      <td>2021-04-12</td>\n      <td>used</td>\n      <td>At Risk</td>\n    </tr>\n    <tr>\n      <th>1</th>\n      <td>2</td>\n      <td>2021-05-09</td>\n      <td>not used</td>\n      <td>Need Attention</td>\n    </tr>\n    <tr>\n      <th>2</th>\n      <td>3</td>\n      <td>2021-05-09</td>\n      <td>used</td>\n      <td>Champions</td>\n    </tr>\n    <tr>\n      <th>3</th>\n      <td>4</td>\n      <td>2021-11-10</td>\n      <td>not used</td>\n      <td>At Risk</td>\n    </tr>\n    <tr>\n      <th>4</th>\n      <td>5</td>\n      <td>2021-11-10</td>\n      <td>used</td>\n      <td>At Risk</td>\n    </tr>\n    <tr>\n      <th>...</th>\n      <td>...</td>\n      <td>...</td>\n      <td>...</td>\n      <td>...</td>\n    </tr>\n    <tr>\n      <th>10094</th>\n      <td>9981</td>\n      <td>2022-07-31</td>\n      <td>used</td>\n      <td>Potential Loyalists</td>\n    </tr>\n    <tr>\n      <th>10095</th>\n      <td>9982</td>\n      <td>2022-07-31</td>\n      <td>not used</td>\n      <td>Potential Loyalists</td>\n    </tr>\n    <tr>\n      <th>10096</th>\n      <td>9983</td>\n      <td>2022-07-31</td>\n      <td>not used</td>\n      <td>Potential Loyalists</td>\n    </tr>\n    <tr>\n      <th>10097</th>\n      <td>9984</td>\n      <td>2022-07-31</td>\n      <td>not used</td>\n      <td>Potential Loyalists</td>\n    </tr>\n    <tr>\n      <th>10098</th>\n      <td>9985</td>\n      <td>2022-07-31</td>\n      <td>not used</td>\n      <td>Potential Loyalists</td>\n    </tr>\n  </tbody>\n</table>\n<p>10099 rows × 4 columns</p>\n</div>"
     },
     "execution_count": 61,
     "metadata": {},
     "output_type": "execute_result"
    }
   ],
   "source": [
    "discount_use = dataframe[['user_id', 'created_at', 'discount_use', 'Segment']].merge(df_discount, how='inner', on=['user_id', 'created_at'])\n",
    "discount_use.head()"
   ],
   "metadata": {
    "collapsed": false,
    "pycharm": {
     "name": "#%%\n"
    }
   }
  },
  {
   "cell_type": "code",
   "execution_count": 62,
   "outputs": [
    {
     "name": "stderr",
     "output_type": "stream",
     "text": [
      "C:\\Users\\Joker\\AppData\\Local\\Temp\\ipykernel_20300\\2591547435.py:2: UserWarning: To output multiple subplots, the figure containing the passed axes is being cleared.\n",
      "  discount_type.groupby([\"discount_type\", \"Segment\"]).size().unstack(level=0, fill_value=True).apply(lambda x: x / sum(x), axis=0).plot(ax=ax, kind='bar', subplots=True, rot=90, sharey=True, layout=(2, 3))\n"
     ]
    },
    {
     "data": {
      "text/plain": "array([[<AxesSubplot:title={'center':'0.0'}, xlabel='Segment'>,\n        <AxesSubplot:title={'center':'1.0'}, xlabel='Segment'>,\n        <AxesSubplot:title={'center':'2.0'}, xlabel='Segment'>],\n       [<AxesSubplot:xlabel='Segment'>, <AxesSubplot:xlabel='Segment'>,\n        <AxesSubplot:xlabel='Segment'>]], dtype=object)"
     },
     "execution_count": 62,
     "metadata": {},
     "output_type": "execute_result"
    },
    {
     "data": {
      "text/plain": "<Figure size 1080x504 with 6 Axes>",
      "image/png": "[encoded data removed]"
     },
     "metadata": {},
     "output_type": "display_data"
    }
   ],
   "source": [
    "fig, ax = plt.subplots(figsize=(15, 7))\n",
    "discount_type.groupby([\"discount_type\", \"Segment\"]).size().unstack(level=0, fill_value=True).apply(lambda x: x / sum(x), axis=0).plot(ax=ax, kind='bar', subplots=True, rot=90, sharey=True, layout=(2, 3))"
   ],
   "metadata": {
    "collapsed": false,
    "pycharm": {
     "name": "#%%\n"
    }
   }
  },
  {
   "cell_type": "code",
   "execution_count": 63,
   "outputs": [
    {
     "name": "stderr",
     "output_type": "stream",
     "text": [
      "C:\\Users\\Joker\\AppData\\Local\\Temp\\ipykernel_20300\\48259952.py:2: UserWarning: To output multiple subplots, the figure containing the passed axes is being cleared.\n",
      "  discount_use.groupby(['discount_use', 'Segment']).size().unstack(level=0, fill_value=True).apply(lambda x: x , axis=0).plot(ax=ax1, kind='bar', subplots=True, rot=90, sharey=True, layout=(2, 2))\n"
     ]
    },
    {
     "data": {
      "text/plain": "array([[<AxesSubplot:title={'center':'not used'}, xlabel='Segment'>,\n        <AxesSubplot:title={'center':'used'}, xlabel='Segment'>],\n       [<AxesSubplot:xlabel='Segment'>, <AxesSubplot:xlabel='Segment'>]],\n      dtype=object)"
     },
     "execution_count": 63,
     "metadata": {},
     "output_type": "execute_result"
    },
    {
     "data": {
      "text/plain": "<Figure size 1080x504 with 4 Axes>",
      "image/png": "[encoded data removed]"
     },
     "metadata": {},
     "output_type": "display_data"
    }
   ],
   "source": [
    "fig1, ax1 = plt.subplots(figsize=(15, 7))\n",
    "discount_use.groupby(['discount_use', 'Segment']).size().unstack(level=0, fill_value=True).apply(lambda x: x , axis=0).plot(ax=ax1, kind='bar', subplots=True, rot=90, sharey=True, layout=(2, 2))"
   ],
   "metadata": {
    "collapsed": false,
    "pycharm": {
     "name": "#%%\n"
    }
   }
  }
 ],
 "metadata": {
  "kernelspec": {
   "display_name": "Python 3 (ipykernel)",
   "language": "python",
   "name": "python3"
  },
  "language_info": {
   "codemirror_mode": {
    "name": "ipython",
    "version": 3
   },
   "file_extension": ".py",
   "mimetype": "text/x-python",
   "name": "python",
   "nbconvert_exporter": "python",
   "pygments_lexer": "ipython3",
   "version": "3.9.12"
  }
 },
 "nbformat": 4,
 "nbformat_minor": 5
}